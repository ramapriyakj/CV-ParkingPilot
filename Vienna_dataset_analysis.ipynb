{
  "nbformat": 4,
  "nbformat_minor": 0,
  "metadata": {
    "colab": {
      "name": "Vienna_dataset_analysis.ipynb",
      "version": "0.3.2",
      "provenance": [],
      "collapsed_sections": [],
      "include_colab_link": true
    },
    "language_info": {
      "name": "python",
      "version": "3.6.4",
      "mimetype": "text/x-python",
      "codemirror_mode": {
        "name": "ipython",
        "version": 3
      },
      "pygments_lexer": "ipython3",
      "nbconvert_exporter": "python",
      "file_extension": ".py"
    },
    "kernelspec": {
      "name": "python3",
      "display_name": "Python 3"
    },
    "accelerator": "GPU"
  },
  "cells": [
    {
      "cell_type": "markdown",
      "metadata": {
        "id": "view-in-github",
        "colab_type": "text"
      },
      "source": [
        "<a href=\"https://colab.research.google.com/github/ramapriyakj/CV-ParkingPilot/blob/master/Vienna_dataset_analysis.ipynb\" target=\"_parent\"><img src=\"https://colab.research.google.com/assets/colab-badge.svg\" alt=\"Open In Colab\"/></a>"
      ]
    },
    {
      "metadata": {
        "id": "Q-66R7bo85vM",
        "colab_type": "text"
      },
      "cell_type": "markdown",
      "source": [
        "Integration with google drive."
      ]
    },
    {
      "metadata": {
        "id": "tYLwInfgOXSh",
        "colab_type": "code",
        "outputId": "53d36358-cb47-416d-a708-25ab73d13bdd",
        "colab": {
          "base_uri": "https://localhost:8080/",
          "height": 34
        }
      },
      "cell_type": "code",
      "source": [
        "from google.colab import drive\n",
        "drive.mount('/content/gdrive', force_remount=True)\n",
        "root_dir = \"/content/gdrive/My Drive/\"\n",
        "data_set_dir = root_dir + 'Colab Notebooks/dataset/'"
      ],
      "execution_count": 1,
      "outputs": [
        {
          "output_type": "stream",
          "text": [
            "Mounted at /content/gdrive\n"
          ],
          "name": "stdout"
        }
      ]
    },
    {
      "metadata": {
        "id": "nQeLkWcB9Agm",
        "colab_type": "text"
      },
      "cell_type": "markdown",
      "source": [
        "**Vienna Scooter Data Analysis**\n",
        "\n",
        "In this project, we predict latitude and longitude of a vehicle at time on day, uisng vienna_scooter_positions.csv dataset.\n",
        "\n",
        "The performance is evaluated using the following models:\n",
        "\n",
        "DENSE - Dense feed forward network\n",
        "LSTM - Long short term memory"
      ]
    },
    {
      "metadata": {
        "id": "9zdJA-K_94QK",
        "colab_type": "text"
      },
      "cell_type": "markdown",
      "source": [
        "CSV path"
      ]
    },
    {
      "metadata": {
        "trusted": true,
        "id": "ijk3PEr2OThh",
        "colab_type": "code",
        "colab": {}
      },
      "cell_type": "code",
      "source": [
        "import os,sys\n",
        "data_path = data_set_dir + \"vienna_scooter_positions.csv\";\n",
        "if os.path.isfile(data_path):    \n",
        "    pass\n",
        "else:\n",
        "    print(\"Invalid file path. Please place the python file in the same folder as vienna_scooter_positions.csv and rerun.\")\n",
        "    sys.exit(0)"
      ],
      "execution_count": 0,
      "outputs": []
    },
    {
      "metadata": {
        "id": "zfyBTX9o-J2C",
        "colab_type": "text"
      },
      "cell_type": "markdown",
      "source": [
        "Required libraries"
      ]
    },
    {
      "metadata": {
        "trusted": true,
        "id": "6-12wg1BOThn",
        "colab_type": "code",
        "outputId": "edd43f2c-de8b-42c1-a4ea-99a42bf9a464",
        "colab": {
          "base_uri": "https://localhost:8080/",
          "height": 34
        }
      },
      "cell_type": "code",
      "source": [
        "import matplotlib.pyplot as plt\n",
        "import numpy as np\n",
        "import pandas as pd\n",
        "from sklearn import preprocessing\n",
        "from keras.models import Sequential\n",
        "from keras import layers\n",
        "from keras.optimizers import RMSprop\n",
        "from prettytable import PrettyTable"
      ],
      "execution_count": 3,
      "outputs": [
        {
          "output_type": "stream",
          "text": [
            "Using TensorFlow backend.\n"
          ],
          "name": "stderr"
        }
      ]
    },
    {
      "metadata": {
        "id": "R8UfbWCb-MuY",
        "colab_type": "text"
      },
      "cell_type": "markdown",
      "source": [
        "Read CSV"
      ]
    },
    {
      "metadata": {
        "trusted": true,
        "id": "Ja1leqPOOThr",
        "colab_type": "code",
        "outputId": "073990f3-b957-41e6-e7c4-d6fafa9db54a",
        "colab": {
          "base_uri": "https://localhost:8080/",
          "height": 204
        }
      },
      "cell_type": "code",
      "source": [
        "header = [\"id\",\"lat\",\"lon\",\"time\"]\n",
        "ori = pd.read_csv(data_path)[header]\n",
        "ori.head()"
      ],
      "execution_count": 4,
      "outputs": [
        {
          "output_type": "execute_result",
          "data": {
            "text/html": [
              "<div>\n",
              "<style scoped>\n",
              "    .dataframe tbody tr th:only-of-type {\n",
              "        vertical-align: middle;\n",
              "    }\n",
              "\n",
              "    .dataframe tbody tr th {\n",
              "        vertical-align: top;\n",
              "    }\n",
              "\n",
              "    .dataframe thead th {\n",
              "        text-align: right;\n",
              "    }\n",
              "</style>\n",
              "<table border=\"1\" class=\"dataframe\">\n",
              "  <thead>\n",
              "    <tr style=\"text-align: right;\">\n",
              "      <th></th>\n",
              "      <th>id</th>\n",
              "      <th>lat</th>\n",
              "      <th>lon</th>\n",
              "      <th>time</th>\n",
              "    </tr>\n",
              "  </thead>\n",
              "  <tbody>\n",
              "    <tr>\n",
              "      <th>0</th>\n",
              "      <td>EMTRPL</td>\n",
              "      <td>48.184833</td>\n",
              "      <td>16.416045</td>\n",
              "      <td>4.59.57</td>\n",
              "    </tr>\n",
              "    <tr>\n",
              "      <th>1</th>\n",
              "      <td>RSPUIN</td>\n",
              "      <td>48.220575</td>\n",
              "      <td>16.356078</td>\n",
              "      <td>4.59.57</td>\n",
              "    </tr>\n",
              "    <tr>\n",
              "      <th>2</th>\n",
              "      <td>LHCMAF</td>\n",
              "      <td>48.193983</td>\n",
              "      <td>16.399211</td>\n",
              "      <td>4.59.57</td>\n",
              "    </tr>\n",
              "    <tr>\n",
              "      <th>3</th>\n",
              "      <td>JZKAIQ</td>\n",
              "      <td>48.202690</td>\n",
              "      <td>16.393311</td>\n",
              "      <td>4.59.57</td>\n",
              "    </tr>\n",
              "    <tr>\n",
              "      <th>4</th>\n",
              "      <td>WHLPTK</td>\n",
              "      <td>48.226330</td>\n",
              "      <td>16.352546</td>\n",
              "      <td>4.59.57</td>\n",
              "    </tr>\n",
              "  </tbody>\n",
              "</table>\n",
              "</div>"
            ],
            "text/plain": [
              "       id        lat        lon     time\n",
              "0  EMTRPL  48.184833  16.416045  4.59.57\n",
              "1  RSPUIN  48.220575  16.356078  4.59.57\n",
              "2  LHCMAF  48.193983  16.399211  4.59.57\n",
              "3  JZKAIQ  48.202690  16.393311  4.59.57\n",
              "4  WHLPTK  48.226330  16.352546  4.59.57"
            ]
          },
          "metadata": {
            "tags": []
          },
          "execution_count": 4
        }
      ]
    },
    {
      "metadata": {
        "id": "av61y8yv-huF",
        "colab_type": "text"
      },
      "cell_type": "markdown",
      "source": [
        "Convert categorical variable into integer using label encoder"
      ]
    },
    {
      "metadata": {
        "trusted": true,
        "id": "L-a0Pb5gOThv",
        "colab_type": "code",
        "outputId": "73ecd35d-4edb-4fd1-dc89-03b554970eee",
        "colab": {
          "base_uri": "https://localhost:8080/",
          "height": 34
        }
      },
      "cell_type": "code",
      "source": [
        "le = preprocessing.LabelEncoder()\n",
        "le.fit(ori[\"id\"])\n",
        "total_vehicles = len(le.classes_)\n",
        "print(\"Total Vehicles are : \",total_vehicles)"
      ],
      "execution_count": 5,
      "outputs": [
        {
          "output_type": "stream",
          "text": [
            "Total Vehicles are :  997\n"
          ],
          "name": "stdout"
        }
      ]
    },
    {
      "metadata": {
        "id": "y5gALRI_-dWH",
        "colab_type": "text"
      },
      "cell_type": "markdown",
      "source": [
        "1.   Time is split into hours, minutes and seconds\n",
        "2.   All features are converted to float. Now the data contains id, latitude, longitide, hours, minutes and seconds"
      ]
    },
    {
      "metadata": {
        "id": "W_PItx0mCMgA",
        "colab_type": "code",
        "outputId": "03d6f47d-c60c-448c-c3ec-0f4684c0c77d",
        "colab": {
          "base_uri": "https://localhost:8080/",
          "height": 34
        }
      },
      "cell_type": "code",
      "source": [
        "_id = le.transform(ori[\"id\"])\n",
        "data = np.zeros((len(ori), len(header) + 2))\n",
        "for i, line in ori.iterrows():\n",
        "  time = line[\"time\"].split('.')\n",
        "  data[i, :] = [_id[i],float(line[\"lat\"]),float(line[\"lon\"]),float(time[0]),float(time[1]),float(time[2])]\n",
        "print(data.shape)"
      ],
      "execution_count": 6,
      "outputs": [
        {
          "output_type": "stream",
          "text": [
            "(869641, 6)\n"
          ],
          "name": "stdout"
        }
      ]
    },
    {
      "metadata": {
        "id": "jtVc63lyWz8_",
        "colab_type": "code",
        "colab": {}
      },
      "cell_type": "code",
      "source": [
        "ori.drop(header, axis=1, inplace=True)"
      ],
      "execution_count": 0,
      "outputs": []
    },
    {
      "metadata": {
        "id": "meiZgoDk_Nvl",
        "colab_type": "text"
      },
      "cell_type": "markdown",
      "source": [
        "**Feature Normalization**\n",
        "\n",
        "1.   All features except id are normalized\n",
        "2.   Mean and Standard deviation are calculated on training data (first 600000 records) and the same values are used to normalize entire dataset\n",
        "\n"
      ]
    },
    {
      "metadata": {
        "id": "vxBuYkhpHOUu",
        "colab_type": "code",
        "colab": {}
      },
      "cell_type": "code",
      "source": [
        "mean = data[:600000,1:].mean(axis=0)\n",
        "data[:,1:] -= mean\n",
        "std = data[:600000,1:].std(axis=0)\n",
        "data[:,1:] /= std"
      ],
      "execution_count": 0,
      "outputs": []
    },
    {
      "metadata": {
        "id": "zV4F24JEAD5s",
        "colab_type": "text"
      },
      "cell_type": "markdown",
      "source": [
        "The following function takes lookback (default = 50) and step (default = 10)  as input and returns train dataset, validation dataset and test dataset.\n",
        "\n",
        "For each sample in the original dataset, the vehicle id is noted and lookback number of previous positions are sampled and returned as features.\n",
        "\n",
        "It returns training, validation and testing datasets.\n",
        "Traning dataset size = 600000\n",
        "Traning dataset size = 100000\n",
        "Traning dataset size = Remaining samples\n"
      ]
    },
    {
      "metadata": {
        "trusted": true,
        "id": "P9F6GNiYOThz",
        "colab_type": "code",
        "colab": {}
      },
      "cell_type": "code",
      "source": [
        "def getDataSet(lookback,step):\n",
        "    trainable_x = np.zeros((len(data), step, data.shape[-1]))\n",
        "    trainable_y = np.zeros((len(data),2))\n",
        "    lookback_list = {}\n",
        "    for i in range(total_vehicles):\n",
        "      lookback_list[i] = np.array([[i,0,0,0,0,0]]*lookback)\n",
        "      \n",
        "    ind = np.arange(0,lookback,lookback//step)\n",
        "    \n",
        "    for i,row in enumerate(data):\n",
        "      id = int(row[0])   \n",
        "      trainable_x[i,:,:] = lookback_list[id][ind,:]\n",
        "      trainable_y[i] = np.array([row[1],row[2]])\n",
        "      lookback_list[id] = np.concatenate((lookback_list[id][1:],[row]))        \n",
        "    \n",
        "    indices = np.arange(600000)\n",
        "    np.random.shuffle(indices)\n",
        "    train_x = trainable_x[indices]\n",
        "    train_y = trainable_y[indices]\n",
        "    val_x = trainable_x[600000:700000]\n",
        "    val_y = trainable_y[600000:700000]\n",
        "    test_x = trainable_x[700000:]\n",
        "    test_y = trainable_y[700000:]\n",
        "    \n",
        "    return train_x,train_y,val_x,val_y,test_x,test_y"
      ],
      "execution_count": 0,
      "outputs": []
    },
    {
      "metadata": {
        "id": "Ky-C20d6C6kG",
        "colab_type": "text"
      },
      "cell_type": "markdown",
      "source": [
        "Plot loss using matplotlib"
      ]
    },
    {
      "metadata": {
        "id": "DWaCFDgqm_EK",
        "colab_type": "code",
        "colab": {}
      },
      "cell_type": "code",
      "source": [
        "def printResults(name,history):\n",
        "  loss = history.history['loss']\n",
        "  val_loss = history.history['val_loss']\n",
        "  epochs = range(len(loss))\n",
        "  \n",
        "  plt.figure()\n",
        "  plt.plot(epochs, loss, 'bo', label='Training loss')\n",
        "  plt.plot(epochs, val_loss, 'b', label='Validation loss')\n",
        "  plt.title(name + ' - Training and validation loss')\n",
        "  plt.legend()\n",
        "\n",
        "  plt.show()"
      ],
      "execution_count": 0,
      "outputs": []
    },
    {
      "metadata": {
        "id": "oZoKkq47DBAt",
        "colab_type": "text"
      },
      "cell_type": "markdown",
      "source": [
        "The function creates and trains model, return test result. Only two models are used for demonstration : DENSE and LSTM."
      ]
    },
    {
      "metadata": {
        "id": "9Jymy3bJqbck",
        "colab_type": "code",
        "colab": {}
      },
      "cell_type": "code",
      "source": [
        "def getResult(name,lookback,step,batch_size,epochs):\n",
        "  \n",
        "  train_x,train_y,val_x,val_y,test_x,test_y = getDataSet(lookback,step)\n",
        "  \n",
        "  model = None\n",
        "  history = None\n",
        "  \n",
        "  if name == \"DENSE\":\n",
        "    model = Sequential()\n",
        "    model.add(layers.Flatten(input_shape=(step, train_x.shape[-1])))\n",
        "    model.add(layers.Dense(32, activation='relu'))\n",
        "    model.add(layers.Dense(2))\n",
        "    model.compile(optimizer=RMSprop(), loss='mse', metrics = ['mae'])\n",
        "    history = model.fit(train_x,train_y,batch_size=batch_size,epochs=epochs,validation_data=(val_x,val_y)) \n",
        "  elif name == \"LSTM\":\n",
        "    model = Sequential()\n",
        "    model.add(layers.LSTM(32,dropout=0.1,recurrent_dropout=0.5,input_shape=(None, train_x.shape[-1])))\n",
        "    model.add(layers.Dense(2))\n",
        "    model.compile(optimizer=RMSprop(), loss='mse', metrics = ['mae'])\n",
        "    history = model.fit(train_x,train_y,batch_size=batch_size,epochs=epochs,validation_data=(val_x,val_y))\n",
        "  \n",
        "  printResults(name,history)\n",
        "  mse, mae = model.evaluate(test_x, test_y, verbose=0)\n",
        "  return mae"
      ],
      "execution_count": 0,
      "outputs": []
    },
    {
      "metadata": {
        "id": "FEGP35-MDff7",
        "colab_type": "text"
      },
      "cell_type": "markdown",
      "source": [
        "Evaluate Model"
      ]
    },
    {
      "metadata": {
        "id": "aPJNd2QjnuvI",
        "colab_type": "code",
        "outputId": "b65ab922-3bf6-4b1b-ca54-1dc71457c331",
        "colab": {
          "base_uri": "https://localhost:8080/",
          "height": 4461
        }
      },
      "cell_type": "code",
      "source": [
        "model_names = [\"LSTM\",\"DENSE\"]\n",
        "look_back = [[60,20],[60,30]]\n",
        "epochs = [5,10]\n",
        "mae_li = []\n",
        "for y in model_names:\n",
        "  for x in look_back:\n",
        "    for z in epochs:   \n",
        "      mae = getResult(y,x[0],x[1],512,z)\n",
        "      print(\"Model:\",y,\",Look Back:\",x[1],\",Epoch:\",z,\",MAE:\",mae)\n",
        "      mae_li.append(mae)"
      ],
      "execution_count": 13,
      "outputs": [
        {
          "output_type": "stream",
          "text": [
            "Train on 600000 samples, validate on 100000 samples\n",
            "Epoch 1/5\n",
            "600000/600000 [==============================] - 40s 67us/step - loss: 0.2851 - mean_absolute_error: 0.3758 - val_loss: 0.0519 - val_mean_absolute_error: 0.1682\n",
            "Epoch 2/5\n",
            "600000/600000 [==============================] - 39s 65us/step - loss: 0.0887 - mean_absolute_error: 0.2105 - val_loss: 0.0477 - val_mean_absolute_error: 0.1758\n",
            "Epoch 3/5\n",
            "600000/600000 [==============================] - 40s 66us/step - loss: 0.0752 - mean_absolute_error: 0.1912 - val_loss: 0.0574 - val_mean_absolute_error: 0.1952\n",
            "Epoch 4/5\n",
            "600000/600000 [==============================] - 39s 64us/step - loss: 0.0680 - mean_absolute_error: 0.1797 - val_loss: 0.0301 - val_mean_absolute_error: 0.1275\n",
            "Epoch 5/5\n",
            "600000/600000 [==============================] - 41s 68us/step - loss: 0.0622 - mean_absolute_error: 0.1699 - val_loss: 0.0168 - val_mean_absolute_error: 0.0911\n"
          ],
          "name": "stdout"
        },
        {
          "output_type": "display_data",
          "data": {
            "image/png": "[encoded data removed]",
            "text/plain": [
              "<Figure size 432x288 with 1 Axes>"
            ]
          },
          "metadata": {
            "tags": []
          }
        },
        {
          "output_type": "stream",
          "text": [
            "Model: LSTM ,Look Back: 20 ,Epoch: 5 ,MAE: 0.092838602384377\n",
            "Train on 600000 samples, validate on 100000 samples\n",
            "Epoch 1/10\n",
            "600000/600000 [==============================] - 41s 68us/step - loss: 0.2771 - mean_absolute_error: 0.3686 - val_loss: 0.0636 - val_mean_absolute_error: 0.1990\n",
            "Epoch 2/10\n",
            "600000/600000 [==============================] - 41s 68us/step - loss: 0.0902 - mean_absolute_error: 0.2113 - val_loss: 0.0880 - val_mean_absolute_error: 0.2309\n",
            "Epoch 3/10\n",
            "600000/600000 [==============================] - 40s 67us/step - loss: 0.0761 - mean_absolute_error: 0.1912 - val_loss: 0.0225 - val_mean_absolute_error: 0.1056\n",
            "Epoch 4/10\n",
            "600000/600000 [==============================] - 41s 69us/step - loss: 0.0683 - mean_absolute_error: 0.1791 - val_loss: 0.0289 - val_mean_absolute_error: 0.1199\n",
            "Epoch 5/10\n",
            "600000/600000 [==============================] - 40s 66us/step - loss: 0.0626 - mean_absolute_error: 0.1703 - val_loss: 0.0155 - val_mean_absolute_error: 0.0807\n",
            "Epoch 6/10\n",
            "600000/600000 [==============================] - 40s 67us/step - loss: 0.0586 - mean_absolute_error: 0.1635 - val_loss: 0.0234 - val_mean_absolute_error: 0.1175\n",
            "Epoch 7/10\n",
            "600000/600000 [==============================] - 40s 67us/step - loss: 0.0544 - mean_absolute_error: 0.1565 - val_loss: 0.0218 - val_mean_absolute_error: 0.1143\n",
            "Epoch 8/10\n",
            "600000/600000 [==============================] - 40s 67us/step - loss: 0.0518 - mean_absolute_error: 0.1511 - val_loss: 0.0219 - val_mean_absolute_error: 0.1092\n",
            "Epoch 9/10\n",
            "600000/600000 [==============================] - 39s 65us/step - loss: 0.0490 - mean_absolute_error: 0.1452 - val_loss: 0.0222 - val_mean_absolute_error: 0.1066\n",
            "Epoch 10/10\n",
            "600000/600000 [==============================] - 41s 68us/step - loss: 0.0468 - mean_absolute_error: 0.1410 - val_loss: 0.0398 - val_mean_absolute_error: 0.1524\n"
          ],
          "name": "stdout"
        },
        {
          "output_type": "display_data",
          "data": {
            "image/png": "[encoded data removed]",
            "text/plain": [
              "<Figure size 432x288 with 1 Axes>"
            ]
          },
          "metadata": {
            "tags": []
          }
        },
        {
          "output_type": "stream",
          "text": [
            "Model: LSTM ,Look Back: 20 ,Epoch: 10 ,MAE: 0.15304070616743662\n",
            "Train on 600000 samples, validate on 100000 samples\n",
            "Epoch 1/5\n",
            "600000/600000 [==============================] - 59s 98us/step - loss: 0.3100 - mean_absolute_error: 0.3864 - val_loss: 0.1270 - val_mean_absolute_error: 0.2662\n",
            "Epoch 2/5\n",
            "600000/600000 [==============================] - 58s 96us/step - loss: 0.0838 - mean_absolute_error: 0.2069 - val_loss: 0.0266 - val_mean_absolute_error: 0.1222\n",
            "Epoch 3/5\n",
            "600000/600000 [==============================] - 56s 94us/step - loss: 0.0678 - mean_absolute_error: 0.1834 - val_loss: 0.0315 - val_mean_absolute_error: 0.1369\n",
            "Epoch 4/5\n",
            "600000/600000 [==============================] - 57s 95us/step - loss: 0.0606 - mean_absolute_error: 0.1718 - val_loss: 0.0320 - val_mean_absolute_error: 0.1288\n",
            "Epoch 5/5\n",
            "600000/600000 [==============================] - 58s 96us/step - loss: 0.0558 - mean_absolute_error: 0.1632 - val_loss: 0.0290 - val_mean_absolute_error: 0.1311\n"
          ],
          "name": "stdout"
        },
        {
          "output_type": "display_data",
          "data": {
            "image/png": "[encoded data removed]",
            "text/plain": [
              "<Figure size 432x288 with 1 Axes>"
            ]
          },
          "metadata": {
            "tags": []
          }
        },
        {
          "output_type": "stream",
          "text": [
            "Model: LSTM ,Look Back: 30 ,Epoch: 5 ,MAE: 0.13043313372750812\n",
            "Train on 600000 samples, validate on 100000 samples\n",
            "Epoch 1/10\n",
            "600000/600000 [==============================] - 59s 99us/step - loss: 0.2948 - mean_absolute_error: 0.3804 - val_loss: 0.0552 - val_mean_absolute_error: 0.1937\n",
            "Epoch 2/10\n",
            "600000/600000 [==============================] - 57s 95us/step - loss: 0.0880 - mean_absolute_error: 0.2115 - val_loss: 0.0297 - val_mean_absolute_error: 0.1281\n",
            "Epoch 3/10\n",
            "600000/600000 [==============================] - 57s 95us/step - loss: 0.0721 - mean_absolute_error: 0.1892 - val_loss: 0.0241 - val_mean_absolute_error: 0.1158\n",
            "Epoch 4/10\n",
            "600000/600000 [==============================] - 57s 95us/step - loss: 0.0632 - mean_absolute_error: 0.1751 - val_loss: 0.0422 - val_mean_absolute_error: 0.1505\n",
            "Epoch 5/10\n",
            "600000/600000 [==============================] - 55s 92us/step - loss: 0.0572 - mean_absolute_error: 0.1656 - val_loss: 0.0195 - val_mean_absolute_error: 0.1040\n",
            "Epoch 6/10\n",
            "600000/600000 [==============================] - 57s 94us/step - loss: 0.0530 - mean_absolute_error: 0.1590 - val_loss: 0.0313 - val_mean_absolute_error: 0.1369\n",
            "Epoch 7/10\n",
            "600000/600000 [==============================] - 59s 98us/step - loss: 0.0498 - mean_absolute_error: 0.1527 - val_loss: 0.0208 - val_mean_absolute_error: 0.1000\n",
            "Epoch 8/10\n",
            "600000/600000 [==============================] - 55s 92us/step - loss: 0.0463 - mean_absolute_error: 0.1461 - val_loss: 0.0188 - val_mean_absolute_error: 0.1040\n",
            "Epoch 9/10\n",
            "600000/600000 [==============================] - 57s 95us/step - loss: 0.0440 - mean_absolute_error: 0.1413 - val_loss: 0.0133 - val_mean_absolute_error: 0.0837\n",
            "Epoch 10/10\n",
            "600000/600000 [==============================] - 57s 95us/step - loss: 0.0418 - mean_absolute_error: 0.1369 - val_loss: 0.0200 - val_mean_absolute_error: 0.1076\n"
          ],
          "name": "stdout"
        },
        {
          "output_type": "display_data",
          "data": {
            "image/png": "[encoded data removed]",
            "text/plain": [
              "<Figure size 432x288 with 1 Axes>"
            ]
          },
          "metadata": {
            "tags": []
          }
        },
        {
          "output_type": "stream",
          "text": [
            "Model: LSTM ,Look Back: 30 ,Epoch: 10 ,MAE: 0.1048062993470739\n",
            "Train on 600000 samples, validate on 100000 samples\n",
            "Epoch 1/5\n",
            "600000/600000 [==============================] - 5s 8us/step - loss: 254.8904 - mean_absolute_error: 12.0008 - val_loss: 236.0962 - val_mean_absolute_error: 12.6850\n",
            "Epoch 2/5\n",
            "600000/600000 [==============================] - 4s 6us/step - loss: 142.2215 - mean_absolute_error: 8.7227 - val_loss: 78.8480 - val_mean_absolute_error: 7.3263\n",
            "Epoch 3/5\n",
            "600000/600000 [==============================] - 4s 6us/step - loss: 71.9880 - mean_absolute_error: 6.1887 - val_loss: 37.8430 - val_mean_absolute_error: 5.2341\n",
            "Epoch 4/5\n",
            "600000/600000 [==============================] - 4s 6us/step - loss: 35.5374 - mean_absolute_error: 4.6559 - val_loss: 33.3214 - val_mean_absolute_error: 4.5328\n",
            "Epoch 5/5\n",
            "600000/600000 [==============================] - 4s 7us/step - loss: 24.4567 - mean_absolute_error: 3.8729 - val_loss: 15.7901 - val_mean_absolute_error: 3.3136\n"
          ],
          "name": "stdout"
        },
        {
          "output_type": "display_data",
          "data": {
            "image/png": "[encoded data removed]",
            "text/plain": [
              "<Figure size 432x288 with 1 Axes>"
            ]
          },
          "metadata": {
            "tags": []
          }
        },
        {
          "output_type": "stream",
          "text": [
            "Model: DENSE ,Look Back: 20 ,Epoch: 5 ,MAE: 3.327309127529702\n",
            "Train on 600000 samples, validate on 100000 samples\n",
            "Epoch 1/10\n",
            "600000/600000 [==============================] - 5s 8us/step - loss: 1201.7472 - mean_absolute_error: 14.2467 - val_loss: 153.8124 - val_mean_absolute_error: 10.0264\n",
            "Epoch 2/10\n",
            "600000/600000 [==============================] - 4s 6us/step - loss: 191.2352 - mean_absolute_error: 10.1627 - val_loss: 57.9647 - val_mean_absolute_error: 6.3754\n",
            "Epoch 3/10\n",
            "600000/600000 [==============================] - 4s 6us/step - loss: 110.8580 - mean_absolute_error: 7.7160 - val_loss: 28.8161 - val_mean_absolute_error: 4.6359\n",
            "Epoch 4/10\n",
            "600000/600000 [==============================] - 4s 6us/step - loss: 75.2230 - mean_absolute_error: 6.5704 - val_loss: 46.6730 - val_mean_absolute_error: 4.5802\n",
            "Epoch 5/10\n",
            "600000/600000 [==============================] - 4s 7us/step - loss: 48.2143 - mean_absolute_error: 5.1548 - val_loss: 40.7078 - val_mean_absolute_error: 4.8500\n",
            "Epoch 6/10\n",
            "600000/600000 [==============================] - 4s 7us/step - loss: 20.4114 - mean_absolute_error: 3.3644 - val_loss: 16.1474 - val_mean_absolute_error: 2.7014\n",
            "Epoch 7/10\n",
            "600000/600000 [==============================] - 4s 7us/step - loss: 13.1189 - mean_absolute_error: 2.7264 - val_loss: 9.6230 - val_mean_absolute_error: 2.0765\n",
            "Epoch 8/10\n",
            "600000/600000 [==============================] - 4s 6us/step - loss: 8.3059 - mean_absolute_error: 2.1528 - val_loss: 7.0689 - val_mean_absolute_error: 2.3036\n",
            "Epoch 9/10\n",
            "600000/600000 [==============================] - 4s 7us/step - loss: 5.4393 - mean_absolute_error: 1.7307 - val_loss: 2.1152 - val_mean_absolute_error: 1.2414\n",
            "Epoch 10/10\n",
            "600000/600000 [==============================] - 4s 6us/step - loss: 3.0011 - mean_absolute_error: 1.2697 - val_loss: 4.6214 - val_mean_absolute_error: 1.4409\n"
          ],
          "name": "stdout"
        },
        {
          "output_type": "display_data",
          "data": {
            "image/png": "[encoded data removed]",
            "text/plain": [
              "<Figure size 432x288 with 1 Axes>"
            ]
          },
          "metadata": {
            "tags": []
          }
        },
        {
          "output_type": "stream",
          "text": [
            "Model: DENSE ,Look Back: 20 ,Epoch: 10 ,MAE: 1.4174327966837903\n",
            "Train on 600000 samples, validate on 100000 samples\n",
            "Epoch 1/5\n",
            "600000/600000 [==============================] - 5s 8us/step - loss: 421.2655 - mean_absolute_error: 14.9583 - val_loss: 81.1512 - val_mean_absolute_error: 6.9434\n",
            "Epoch 2/5\n",
            "600000/600000 [==============================] - 4s 7us/step - loss: 166.3787 - mean_absolute_error: 9.5987 - val_loss: 131.1826 - val_mean_absolute_error: 9.8410\n",
            "Epoch 3/5\n",
            "600000/600000 [==============================] - 4s 7us/step - loss: 89.9020 - mean_absolute_error: 7.0743 - val_loss: 89.6627 - val_mean_absolute_error: 7.7357\n",
            "Epoch 4/5\n",
            "600000/600000 [==============================] - 4s 7us/step - loss: 30.2769 - mean_absolute_error: 3.9558 - val_loss: 16.7827 - val_mean_absolute_error: 3.5397\n",
            "Epoch 5/5\n",
            "600000/600000 [==============================] - 4s 7us/step - loss: 6.4341 - mean_absolute_error: 1.6966 - val_loss: 0.7216 - val_mean_absolute_error: 0.6210\n"
          ],
          "name": "stdout"
        },
        {
          "output_type": "display_data",
          "data": {
            "image/png": "[encoded data removed]",
            "text/plain": [
              "<Figure size 432x288 with 1 Axes>"
            ]
          },
          "metadata": {
            "tags": []
          }
        },
        {
          "output_type": "stream",
          "text": [
            "Model: DENSE ,Look Back: 30 ,Epoch: 5 ,MAE: 0.6086508053642269\n",
            "Train on 600000 samples, validate on 100000 samples\n",
            "Epoch 1/10\n",
            "600000/600000 [==============================] - 5s 9us/step - loss: 202.8008 - mean_absolute_error: 8.2538 - val_loss: 32.6606 - val_mean_absolute_error: 3.7110\n",
            "Epoch 2/10\n",
            "600000/600000 [==============================] - 4s 7us/step - loss: 51.3030 - mean_absolute_error: 5.0315 - val_loss: 68.4153 - val_mean_absolute_error: 5.4437\n",
            "Epoch 3/10\n",
            "600000/600000 [==============================] - 5s 8us/step - loss: 17.5792 - mean_absolute_error: 2.8523 - val_loss: 10.3690 - val_mean_absolute_error: 2.5776\n",
            "Epoch 4/10\n",
            "600000/600000 [==============================] - 5s 8us/step - loss: 7.0361 - mean_absolute_error: 1.8400 - val_loss: 0.6432 - val_mean_absolute_error: 0.5204\n",
            "Epoch 5/10\n",
            "600000/600000 [==============================] - 4s 7us/step - loss: 1.8687 - mean_absolute_error: 0.8167 - val_loss: 0.4643 - val_mean_absolute_error: 0.5214\n",
            "Epoch 6/10\n",
            "600000/600000 [==============================] - 4s 7us/step - loss: 0.6829 - mean_absolute_error: 0.4038 - val_loss: 0.1165 - val_mean_absolute_error: 0.2378\n",
            "Epoch 7/10\n",
            "600000/600000 [==============================] - 4s 7us/step - loss: 0.4205 - mean_absolute_error: 0.3126 - val_loss: 0.0574 - val_mean_absolute_error: 0.1624\n",
            "Epoch 8/10\n",
            "600000/600000 [==============================] - 4s 7us/step - loss: 0.4378 - mean_absolute_error: 0.3191 - val_loss: 0.0296 - val_mean_absolute_error: 0.1243\n",
            "Epoch 9/10\n",
            "600000/600000 [==============================] - 4s 7us/step - loss: 0.2568 - mean_absolute_error: 0.2378 - val_loss: 0.0112 - val_mean_absolute_error: 0.0459\n",
            "Epoch 10/10\n",
            "600000/600000 [==============================] - 4s 7us/step - loss: 0.1722 - mean_absolute_error: 0.2111 - val_loss: 0.0318 - val_mean_absolute_error: 0.1397\n"
          ],
          "name": "stdout"
        },
        {
          "output_type": "display_data",
          "data": {
            "image/png": "[encoded data removed]",
            "text/plain": [
              "<Figure size 432x288 with 1 Axes>"
            ]
          },
          "metadata": {
            "tags": []
          }
        },
        {
          "output_type": "stream",
          "text": [
            "Model: DENSE ,Look Back: 30 ,Epoch: 10 ,MAE: 0.14215095266498198\n"
          ],
          "name": "stdout"
        }
      ]
    },
    {
      "metadata": {
        "id": "ykZJG8fwDjBy",
        "colab_type": "text"
      },
      "cell_type": "markdown",
      "source": [
        "Results"
      ]
    },
    {
      "metadata": {
        "id": "RbY3W3-v51FR",
        "colab_type": "code",
        "colab": {
          "base_uri": "https://localhost:8080/",
          "height": 238
        },
        "outputId": "1a2adb35-7b7e-4ca8-cdc3-55f238d82ea7"
      },
      "cell_type": "code",
      "source": [
        "print(\"Testing results:\")\n",
        "t = PrettyTable(['Model','Look Back Samples','Epochs','Mean Absolute Error'])\n",
        "i = 0\n",
        "for y in model_names:\n",
        "  for x in look_back:\n",
        "    for z in epochs:   \n",
        "      t.add_row([y,x[1],z,round(mae_li[i],2)])\n",
        "      i += 1\n",
        "print(t)"
      ],
      "execution_count": 14,
      "outputs": [
        {
          "output_type": "stream",
          "text": [
            "Testing results:\n",
            "+-------+-------------------+--------+---------------------+\n",
            "| Model | Look Back Samples | Epochs | Mean Absolute Error |\n",
            "+-------+-------------------+--------+---------------------+\n",
            "|  LSTM |         20        |   5    |         0.09        |\n",
            "|  LSTM |         20        |   10   |         0.15        |\n",
            "|  LSTM |         30        |   5    |         0.13        |\n",
            "|  LSTM |         30        |   10   |         0.1         |\n",
            "| DENSE |         20        |   5    |         3.33        |\n",
            "| DENSE |         20        |   10   |         1.42        |\n",
            "| DENSE |         30        |   5    |         0.61        |\n",
            "| DENSE |         30        |   10   |         0.14        |\n",
            "+-------+-------------------+--------+---------------------+\n"
          ],
          "name": "stdout"
        }
      ]
    }
  ]
}